{
 "cells": [
  {
   "cell_type": "markdown",
   "metadata": {},
   "source": [
    "# A Jupyter notebook to read tracking files and (ultimately) create a data package representation of these "
   ]
  },
  {
   "cell_type": "markdown",
   "metadata": {},
   "source": [
    "This notebook shows how to generate **objects** and **events** csv files from CMSO sample files, and then prepares a datapackage representation of these."
   ]
  },
  {
   "cell_type": "markdown",
   "metadata": {},
   "source": [
    "requires python 3.3.0"
   ]
  },
  {
   "cell_type": "code",
   "execution_count": 1,
   "metadata": {
    "collapsed": true
   },
   "outputs": [],
   "source": [
    "# import needed libraries\n",
    "import sys\n",
    "import io\n",
    "import os\n",
    "import csv\n",
    "import pandas as pd"
   ]
  },
  {
   "cell_type": "markdown",
   "metadata": {},
   "source": [
    "This exercise is here shown for data contained in different folders.\n",
    "\n",
    "Choose one of the following files to reproduce this code, or, alternatively, add the path of another file you'd like to use.\n",
    "\n",
    "\n",
    "(Comment the files you will NOT use)."
   ]
  },
  {
   "cell_type": "code",
   "execution_count": 2,
   "metadata": {
    "collapsed": false
   },
   "outputs": [],
   "source": [
    "# f = 'VIB\\\\tracking examples\\\\Ugent\\\\trajectories.csv' # Sami's toolbox - VIB\n",
    "# f = 'VIB\\\\tracking examples\\\\Essen\\\\exp_1\\\\trajectories.csv' # Sami's toolbox - VIB\n",
    "f = 'Essen\\\\tracks_ctr.csv' # Essen's commercial toolbox\n",
    "# f = 'Radboudumc\\\\ExampleFile1_NucleusFeatures.xls' # an xls file (Radboudumc)\n",
    "# f = 'UGent\\\\0001_mode1_z000_f000_tracking.txt' # a single-cell tracking UGent (CELLMIA commercial s/w)"
   ]
  },
  {
   "cell_type": "markdown",
   "metadata": {},
   "source": [
    "The first part of this notebook reads some tracking files, and splits these up in **objects** and **events** csv files."
   ]
  },
  {
   "cell_type": "code",
   "execution_count": 3,
   "metadata": {
    "collapsed": true
   },
   "outputs": [],
   "source": [
    "# utility function needed to read Excel files\n",
    "import xlrd\n",
    "from xlrd import XLRDError\n",
    "\n",
    "def xls_to_csv(xls_file):\n",
    "    \n",
    "    x =  xlrd.open_workbook(xls_file)\n",
    "    x1 = x.sheet_by_index(0)\n",
    "    name, extension = os.path.splitext(f)\n",
    "    csvfile = open(name + '.csv', 'wb')\n",
    "    writecsv = csv.writer(csvfile, quoting=csv.QUOTE_ALL)\n",
    "\n",
    "    for rownum in xrange(sh.nrows):\n",
    "        writecsv.writerow(x1.row_values(rownum))\n",
    "\n",
    "    csvfile.close()"
   ]
  },
  {
   "cell_type": "code",
   "execution_count": 4,
   "metadata": {
    "collapsed": false
   },
   "outputs": [],
   "source": [
    "# takes file chosen and # of rows to visualize\n",
    "def import_file(f, n):\n",
    "    #if an excel file, try to read it as such\n",
    "    if f.endswith('.xls'):\n",
    "        try:\n",
    "            xls_to_csv(f)\n",
    "        except XLRDError:\n",
    "            #copy the file and save it as csv\n",
    "            import shutil\n",
    "            name, extension = os.path.splitext(f)\n",
    "            shutil.copyfile(f, name + '.csv')\n",
    "            f = name + '.csv'\n",
    "            print('Not an excel file.' + ' Copied and simply renamed to csv.')\n",
    "    # open the file and show a quick preview        \n",
    "    with open(f, 'r') as reader:\n",
    "        for i in range(n):\n",
    "            print(reader.readline()) # print header"
   ]
  },
  {
   "cell_type": "code",
   "execution_count": 5,
   "metadata": {
    "collapsed": false,
    "scrolled": true
   },
   "outputs": [
    {
     "name": "stdout",
     "output_type": "stream",
     "text": [
      "Line,Track N,Time Sample N,X,Y\n",
      "\n",
      "1,1,1,40,568\n",
      "\n",
      "2,1,2,28,568\n",
      "\n",
      "3,1,3,20,564\n",
      "\n",
      "4,1,4,20,564\n",
      "\n"
     ]
    }
   ],
   "source": [
    "import_file(f, 5)"
   ]
  },
  {
   "cell_type": "code",
   "execution_count": 6,
   "metadata": {
    "collapsed": false
   },
   "outputs": [],
   "source": [
    "# group the tabular data by the joint_identifier\n",
    "def group_by_joint_id(f, joint_id):\n",
    "    df = pd.read_table(f, sep=None, engine='python')\n",
    "    # try to group by the joint_id\n",
    "    try:\n",
    "        grouped = df.groupby(joint_id)\n",
    "        print(grouped.size()[:5])\n",
    "        return grouped \n",
    "    except KeyError: # throw an error if the wrong id is passed\n",
    "        print('Seems like ' + joint_id + \" is not the right joint_identifier for \" + os.path.basename(f))\n",
    "        return None"
   ]
  },
  {
   "cell_type": "code",
   "execution_count": 7,
   "metadata": {
    "collapsed": false
   },
   "outputs": [
    {
     "name": "stdout",
     "output_type": "stream",
     "text": [
      "Track N\n",
      "1      8\n",
      "2    146\n",
      "3     50\n",
      "4    451\n",
      "5      9\n",
      "dtype: int64\n",
      "Type of G: <class 'pandas.core.groupby.DataFrameGroupBy'>\n"
     ]
    }
   ],
   "source": [
    "# the joint_id needs to be provided by the user\n",
    "# this is one of the column headers in the tracking file, and will most likely be of the form:\n",
    "# track_no, Track ID, object_ID, Track N, and such\n",
    "joint_identifier = 'Track N'\n",
    "G = group_by_joint_id(f, joint_identifier)\n",
    "print('Type of G: {}'.format(type(G)))"
   ]
  },
  {
   "cell_type": "code",
   "execution_count": 8,
   "metadata": {
    "collapsed": true
   },
   "outputs": [],
   "source": [
    "# create objects and events dataframes\n",
    "def split_in_objs_evnts(grouped):\n",
    "    # put everything back into a dataframe\n",
    "    dfs = []\n",
    "    for name, group in grouped:\n",
    "        df = group.reset_index()\n",
    "        dfs.append(df)\n",
    "        \n",
    "    objects_df = pd.concat(dfs)\n",
    " \n",
    "    events_df = pd.DataFrame(grouped.size()).reset_index()\n",
    "    events_df.columns = [joint_identifier, 'events_size']\n",
    "  \n",
    "    return {'objs':objects_df, 'evnts':events_df}"
   ]
  },
  {
   "cell_type": "code",
   "execution_count": 9,
   "metadata": {
    "collapsed": false,
    "scrolled": false
   },
   "outputs": [],
   "source": [
    "# the dictionary\n",
    "D = split_in_objs_evnts(G)\n",
    "\n",
    "# make directory for the csv and the dp representation\n",
    "wd = os.path.dirname(os.path.realpath(f))\n",
    "directory = wd + os.sep + 'dp'\n",
    "if not os.path.exists(directory):\n",
    "    os.makedirs(directory)"
   ]
  },
  {
   "cell_type": "code",
   "execution_count": 10,
   "metadata": {
    "collapsed": true
   },
   "outputs": [],
   "source": [
    "# write the dataframes to csv\n",
    "for k, v in D.items():\n",
    "    v.to_csv(directory + os.sep + k + '.csv', index = False)"
   ]
  },
  {
   "cell_type": "markdown",
   "metadata": {},
   "source": [
    "From here on, the code takes care of the data package representation"
   ]
  },
  {
   "cell_type": "code",
   "execution_count": 11,
   "metadata": {
    "collapsed": true
   },
   "outputs": [],
   "source": [
    "# requires pip install datapackage\n",
    "# requires pip install jsontableschema\n",
    "import datapackage as dp\n",
    "import jsontableschema\n",
    "from jsontableschema import infer"
   ]
  },
  {
   "cell_type": "code",
   "execution_count": 12,
   "metadata": {
    "collapsed": false
   },
   "outputs": [],
   "source": [
    "import collections\n",
    "from collections import defaultdict\n",
    "author = 'author'\n",
    "author_email = 'author@email.com'\n",
    "\n",
    "# the top level information\n",
    "top = (\n",
    "    ('title', 'cell tracking file'),\n",
    "    ('name', 'tracking-file'),\n",
    "    ('author', author),\n",
    "    ('author_email', author_email),\n",
    "    ('joint_identifier', joint_identifier)\n",
    "    )\n",
    "\n",
    "top_dict = defaultdict(list)\n",
    "for k, v in top:\n",
    "    top_dict[k].append((v))"
   ]
  },
  {
   "cell_type": "code",
   "execution_count": 13,
   "metadata": {
    "collapsed": false
   },
   "outputs": [
    {
     "data": {
      "text/plain": [
       "dict_items([('author_email', ['author@email.com']), ('author', ['author']), ('name', ['tracking-file']), ('joint_identifier', ['Track N']), ('title', ['cell tracking file'])])"
      ]
     },
     "execution_count": 13,
     "metadata": {},
     "output_type": "execute_result"
    }
   ],
   "source": [
    "top_dict.items()"
   ]
  },
  {
   "cell_type": "code",
   "execution_count": 14,
   "metadata": {
    "collapsed": false
   },
   "outputs": [
    {
     "name": "stdout",
     "output_type": "stream",
     "text": [
      "{\"author_email\": [\"author@email.com\"], \"name\": [\"tracking-file\"], \"author\": [\"author\"], \"resources\": [{\"name\": \"objs\", \"path\": \"objs.csv\", \"schema\": {\"fields\": [{\"type\": \"integer\", \"name\": \"index\", \"description\": \"\", \"format\": \"default\", \"title\": \"\"}, {\"type\": \"integer\", \"name\": \"Line\", \"description\": \"\", \"format\": \"default\", \"title\": \"\"}, {\"type\": \"integer\", \"name\": \"Track N\", \"description\": \"\", \"format\": \"default\", \"title\": \"\"}, {\"type\": \"integer\", \"name\": \"Time Sample N\", \"description\": \"\", \"format\": \"default\", \"title\": \"\"}, {\"type\": \"integer\", \"name\": \"X\", \"description\": \"\", \"format\": \"default\", \"title\": \"\"}, {\"type\": \"integer\", \"name\": \"Y\", \"description\": \"\", \"format\": \"default\", \"title\": \"\"}]}}, {\"name\": \"evnts\", \"path\": \"evnts.csv\", \"schema\": {\"fields\": [{\"type\": \"integer\", \"name\": \"Track N\", \"description\": \"\", \"format\": \"default\", \"title\": \"\"}, {\"type\": \"integer\", \"name\": \"events_size\", \"description\": \"\", \"format\": \"default\", \"title\": \"\"}]}}], \"joint_identifier\": [\"Track N\"], \"title\": [\"cell tracking file\"]}\n"
     ]
    }
   ],
   "source": [
    "myDP = dp.DataPackage()\n",
    "# top level information\n",
    "for k, v in top_dict.items():\n",
    "    myDP.descriptor[k] = v\n",
    "\n",
    "myDP.descriptor['resources'] = []\n",
    "\n",
    "    \n",
    "for k, v in D.items():\n",
    "    name = k\n",
    "    path = k + '.csv'\n",
    "    with io.open(directory + os.sep + k + '.csv') as stream:\n",
    "        headers = stream.readline().rstrip('\\n').split(',')\n",
    "        values = csv.reader(stream)\n",
    "        schema = infer(headers, values)\n",
    "                  \n",
    "    myDP.descriptor['resources'].append(\n",
    "                {\n",
    "                    \"name\": name,\n",
    "                    \"path\": path,\n",
    "                    \"schema\": schema,\n",
    "                }\n",
    "            )\n",
    "    \n",
    "    \n",
    "print (myDP.to_json())"
   ]
  },
  {
   "cell_type": "code",
   "execution_count": 15,
   "metadata": {
    "collapsed": false
   },
   "outputs": [],
   "source": [
    "# write the datapackage.json to file\n",
    "with open(directory + os.sep + 'dp.json', 'w') as f:\n",
    "    f.write(myDP.to_json())"
   ]
  },
  {
   "cell_type": "code",
   "execution_count": 16,
   "metadata": {
    "collapsed": false
   },
   "outputs": [
    {
     "name": "stdout",
     "output_type": "stream",
     "text": [
      "['objs___objs', 'evnts___evnts']\n"
     ]
    }
   ],
   "source": [
    "# push the data package to a pandas storage\n",
    "descr = directory + os.sep + 'dp.json'\n",
    "stg = dp.push_datapackage(descriptor = descr, backend = 'pandas')\n",
    "print(stg.buckets)"
   ]
  },
  {
   "cell_type": "code",
   "execution_count": 17,
   "metadata": {
    "collapsed": false
   },
   "outputs": [],
   "source": [
    "objects = stg[stg.buckets[0]]\n",
    "events = stg[stg.buckets[1]]"
   ]
  },
  {
   "cell_type": "code",
   "execution_count": 18,
   "metadata": {
    "collapsed": false
   },
   "outputs": [
    {
     "name": "stdout",
     "output_type": "stream",
     "text": [
      "   index  Line  Track N  Time Sample N   X    Y  events_size\n",
      "0      0     1        1              1  40  568            8\n",
      "1      1     2        1              2  28  568            8\n",
      "2      2     3        1              3  20  564            8\n",
      "3      3     4        1              4  20  564            8\n",
      "4      4     5        1              5  20  564            8\n"
     ]
    }
   ],
   "source": [
    "# aggregation\n",
    "trajectories = pd.merge(objects, events, how = 'outer', on = joint_identifier)\n",
    "print(trajectories.head())"
   ]
  },
  {
   "cell_type": "markdown",
   "metadata": {},
   "source": [
    "Some plotting"
   ]
  },
  {
   "cell_type": "code",
   "execution_count": 19,
   "metadata": {
    "collapsed": true
   },
   "outputs": [],
   "source": [
    "import pylab as pl\n",
    "import matplotlib.pyplot as plt\n",
    "import numpy as np\n",
    "import seaborn as sns\n",
    "\n",
    "%matplotlib inline\n",
    "sns.set(style=\"whitegrid\")"
   ]
  },
  {
   "cell_type": "code",
   "execution_count": 20,
   "metadata": {
    "collapsed": true
   },
   "outputs": [],
   "source": [
    "x = 'X'\n",
    "y = 'Y'"
   ]
  },
  {
   "cell_type": "code",
   "execution_count": 21,
   "metadata": {
    "collapsed": false
   },
   "outputs": [
    {
     "data": {
      "text/plain": [
       "<seaborn.axisgrid.FacetGrid at 0x27709df56d8>"
      ]
     },
     "execution_count": 21,
     "metadata": {},
     "output_type": "execute_result"
    },
    {
     "data": {
      "image/png": "[encoded data removed]",
      "text/plain": [
       "<matplotlib.figure.Figure at 0x27709df57f0>"
      ]
     },
     "metadata": {},
     "output_type": "display_data"
    }
   ],
   "source": [
    "grid = sns.FacetGrid(trajectories, hue=joint_identifier, size = 3, palette='muted')\n",
    "grid.map(plt.plot, x, y, marker=\"o\", ms=1)\n",
    "grid.set_xticklabels(rotation=90)"
   ]
  },
  {
   "cell_type": "markdown",
   "metadata": {},
   "source": [
    "**Normalize to origin of system**"
   ]
  },
  {
   "cell_type": "code",
   "execution_count": 22,
   "metadata": {
    "collapsed": false
   },
   "outputs": [],
   "source": [
    "x_norm = x + 'norm'\n",
    "y_norm = y + 'norm'"
   ]
  },
  {
   "cell_type": "code",
   "execution_count": 23,
   "metadata": {
    "collapsed": false
   },
   "outputs": [],
   "source": [
    "def normalize(dataset):\n",
    "    list_ = []\n",
    "    for track in dataset[joint_identifier].unique():\n",
    "        temp_tracks = dataset[dataset[joint_identifier]==track]\n",
    "        #the first x and y values\n",
    "        x0, y0 = temp_tracks.iloc[0][x], temp_tracks.iloc[0][y]\n",
    "        for index, row in temp_tracks.iterrows():\n",
    "            current_x, current_y = row[x], row[y]\n",
    "            xn, yn = current_x - x0, current_y - y0\n",
    "            \n",
    "            temp_tracks_row = temp_tracks.loc[[index]] # pass a list to .loc to be sure to get a dataframe: behavior is not consistent!\n",
    "            temp_tracks_row[x_norm], temp_tracks_row[y_norm] = xn, yn\n",
    "            list_.append(temp_tracks_row)\n",
    "            \n",
    "    dataset = pd.concat(list_)\n",
    "    return dataset"
   ]
  },
  {
   "cell_type": "code",
   "execution_count": 24,
   "metadata": {
    "collapsed": false,
    "scrolled": true
   },
   "outputs": [
    {
     "name": "stdout",
     "output_type": "stream",
     "text": [
      "   index  Line  Track N  Time Sample N   X    Y  events_size  Xnorm  Ynorm\n",
      "0      0     1        1              1  40  568            8      0      0\n",
      "1      1     2        1              2  28  568            8    -12      0\n",
      "2      2     3        1              3  20  564            8    -20     -4\n",
      "3      3     4        1              4  20  564            8    -20     -4\n",
      "4      4     5        1              5  20  564            8    -20     -4\n"
     ]
    }
   ],
   "source": [
    "norm = normalize(trajectories)\n",
    "print(norm.head())"
   ]
  },
  {
   "cell_type": "code",
   "execution_count": 25,
   "metadata": {
    "collapsed": false
   },
   "outputs": [
    {
     "data": {
      "text/plain": [
       "<seaborn.axisgrid.FacetGrid at 0x2770b3cac50>"
      ]
     },
     "execution_count": 25,
     "metadata": {},
     "output_type": "execute_result"
    },
    {
     "data": {
      "image/png": "[encoded data removed]",
      "text/plain": [
       "<matplotlib.figure.Figure at 0x27709ec9a90>"
      ]
     },
     "metadata": {},
     "output_type": "display_data"
    }
   ],
   "source": [
    "grid = sns.FacetGrid(norm, hue=joint_identifier, size=4, palette='muted')\n",
    "grid.map(plt.plot, x_norm, y_norm, marker=\"o\", ms=1)\n",
    "grid.set_xticklabels(rotation=90)"
   ]
  }
 ],
 "metadata": {
  "anaconda-cloud": {},
  "kernelspec": {
   "display_name": "Python [default]",
   "language": "python",
   "name": "python3"
  },
  "language_info": {
   "codemirror_mode": {
    "name": "ipython",
    "version": 3
   },
   "file_extension": ".py",
   "mimetype": "text/x-python",
   "name": "python",
   "nbconvert_exporter": "python",
   "pygments_lexer": "ipython3",
   "version": "3.5.2"
  }
 },
 "nbformat": 4,
 "nbformat_minor": 1
}
